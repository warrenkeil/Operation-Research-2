{
 "cells": [
  {
   "cell_type": "markdown",
   "metadata": {},
   "source": [
    "Homework 15.10 Genetic Algorithm: Crossover method with two different crossover points. \n",
    "\n",
    "OR2\n",
    "\n",
    "Warren Keil "
   ]
  },
  {
   "cell_type": "code",
   "execution_count": 28,
   "metadata": {},
   "outputs": [
    {
     "name": "stdout",
     "output_type": "stream",
     "text": [
      "p1 is  [4, 3, 6, 5, 1, 2]     p2 is  [1, 5, 2, 3, 6, 4]\n"
     ]
    }
   ],
   "source": [
    "p1 = [4,3,6,5,1,2]\n",
    "p2 = [1,5,2,3,6,4]  \n",
    "c1 = 3\n",
    "c2 = 6 \n",
    "\n",
    "print('p1 is ', p1, '    p2 is ', p2)"
   ]
  },
  {
   "cell_type": "code",
   "execution_count": 25,
   "metadata": {},
   "outputs": [
    {
     "data": {
      "text/plain": [
       "([2, 5, 1, 3, 6, 4], [6, 3, 4, 5, 1, 2])"
      ]
     },
     "execution_count": 25,
     "metadata": {},
     "output_type": "execute_result"
    }
   ],
   "source": [
    "\n",
    "def cross2(p1,p2,c1,c2):\n",
    "    domain = p1[min(c1,c2):max(c1,c2)]\n",
    "    codomain = p2[min(c1,c2):max(c1,c2)] \n",
    "    \n",
    "    #new1 = [0]*len(p1)\n",
    "    #new2 = [0]*len(p2) \n",
    "    def eff(p1,domain,codomain):\n",
    "        newp1 = [0]*len(p1)\n",
    "        for i in range(0,len(p1)):\n",
    "            if p1[i] in domain:\n",
    "                ind1=domain.index(p1[i])\n",
    "                newp1[i] = codomain[ind1]\n",
    "            elif p1[i] in codomain:\n",
    "                ind1 = codomain.index(p1[i])\n",
    "                newp1[i] = domain[ind1] \n",
    "            else:\n",
    "                newp1[i] = p1[i]\n",
    "        return newp1\n",
    "                \n",
    "    new1 = eff(p1,domain,codomain)\n",
    "    new2 = eff(p2,domain,codomain) \n",
    "                \n",
    "    return new1, new2\n",
    "\n",
    "    \n",
    "cross2(p1,p2,c1,c2)"
   ]
  },
  {
   "cell_type": "code",
   "execution_count": 29,
   "metadata": {},
   "outputs": [
    {
     "data": {
      "text/plain": [
       "([1, 2, 4, 8, 3, 7, 4, 6, 9], [1, 9, 2, 4, 7, 4, 8, 6, 3])"
      ]
     },
     "execution_count": 29,
     "metadata": {},
     "output_type": "execute_result"
    }
   ],
   "source": [
    "pp1 = [1,2,8,4,5,3,7,6,9]\n",
    "pp2 = [1,9,2,8,3,7,4,6,5]\n",
    "cross2(pp1,pp2,3,7)"
   ]
  },
  {
   "cell_type": "code",
   "execution_count": 30,
   "metadata": {},
   "outputs": [],
   "source": [
    "%qtconsole"
   ]
  },
  {
   "cell_type": "code",
   "execution_count": null,
   "metadata": {},
   "outputs": [],
   "source": []
  }
 ],
 "metadata": {
  "kernelspec": {
   "display_name": "Python 3",
   "language": "python",
   "name": "python3"
  },
  "language_info": {
   "codemirror_mode": {
    "name": "ipython",
    "version": 3
   },
   "file_extension": ".py",
   "mimetype": "text/x-python",
   "name": "python",
   "nbconvert_exporter": "python",
   "pygments_lexer": "ipython3",
   "version": "3.6.3"
  }
 },
 "nbformat": 4,
 "nbformat_minor": 2
}
