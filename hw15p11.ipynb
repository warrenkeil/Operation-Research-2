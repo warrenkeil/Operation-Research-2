{
 "cells": [
  {
   "cell_type": "markdown",
   "metadata": {},
   "source": [
    "Homework $15.11$ Genetic Algorithm Crossover method 3\n",
    "\n",
    "OR2\n",
    "\n",
    "Warren D. Keil "
   ]
  },
  {
   "cell_type": "code",
   "execution_count": 43,
   "metadata": {},
   "outputs": [
    {
     "name": "stdout",
     "output_type": "stream",
     "text": [
      "p1 is  [4, 3, 6, 5, 1, 2]     p2 is  [1, 5, 2, 3, 6, 4]\n"
     ]
    }
   ],
   "source": [
    "p1 = [4,3,6,5,1,2]\n",
    "p2 = [1,5,2,3,6,4]  \n",
    "c1 = 3\n",
    "c2 = 6 \n",
    "\n",
    "print('p1 is ', p1, '    p2 is ', p2)"
   ]
  },
  {
   "cell_type": "code",
   "execution_count": 44,
   "metadata": {},
   "outputs": [
    {
     "data": {
      "text/plain": [
       "([5, 1, 2, 3, 6, 4], [3, 6, 4, 5, 1, 2])"
      ]
     },
     "execution_count": 44,
     "metadata": {},
     "output_type": "execute_result"
    }
   ],
   "source": [
    "def cross3(p1,p2,c1,c2):\n",
    "    \n",
    "    k1 = p1[min(c1,c2):max(c1,c2)]\n",
    "    k2 = p2[min(c1,c2):max(c1,c2)]\n",
    "    \n",
    "    ind1 = [0]*len(k2)\n",
    "    ind2 = [0]*len(k1)\n",
    "    \n",
    "    new1 = [0]*len(p1)\n",
    "    new2 = [0]*len(p2)\n",
    "    \n",
    "\n",
    "    for i in range(0,len(k2)):\n",
    "        ind1[i] = p1.index(k2[i])\n",
    "    \n",
    "    for i in range(0,len(k1)):\n",
    "        ind2[i] = p2.index(k1[i])\n",
    "        \n",
    "    ind1.sort()\n",
    "    ind2.sort()\n",
    "    \n",
    "    for i in ind1:\n",
    "        new1[ind1[i]] = k1[i]\n",
    "    \n",
    "    for i in ind2:\n",
    "        new2[ind2[i]] = k2[i]\n",
    "    \n",
    "    for i in range(0,len(k1)):\n",
    "        new1[i+c1] = k2[i]\n",
    "        new2[i+c1] = k1[i]\n",
    "    \n",
    "\n",
    "    return new1,new2\n",
    "\n",
    "cross3(p1,p2,c1,c2)"
   ]
  },
  {
   "cell_type": "code",
   "execution_count": null,
   "metadata": {},
   "outputs": [],
   "source": []
  }
 ],
 "metadata": {
  "kernelspec": {
   "display_name": "Python 3",
   "language": "python",
   "name": "python3"
  },
  "language_info": {
   "codemirror_mode": {
    "name": "ipython",
    "version": 3
   },
   "file_extension": ".py",
   "mimetype": "text/x-python",
   "name": "python",
   "nbconvert_exporter": "python",
   "pygments_lexer": "ipython3",
   "version": "3.6.3"
  }
 },
 "nbformat": 4,
 "nbformat_minor": 2
}
