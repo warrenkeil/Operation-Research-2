{
 "cells": [
  {
   "cell_type": "markdown",
   "metadata": {},
   "source": [
    "Homework 15.9 -Genetic Algo: Use Crossover technique to generate solutions from given parent solutions. Use $c=4$. \n",
    "\n",
    "Operations Research 2\n",
    "\n",
    "Warren Keil "
   ]
  },
  {
   "cell_type": "code",
   "execution_count": 3,
   "metadata": {},
   "outputs": [
    {
     "name": "stdout",
     "output_type": "stream",
     "text": [
      "[1, 3, 4, 6, 2, 8, 5, 7] [4, 2, 6, 5, 9, 7, 1, 3] [3, 1, 5, 4, 7, 6, 8, 2] [8, 1, 3, 2, 5, 6, 4, 7]\n"
     ]
    }
   ],
   "source": [
    "p1 = [1,3,4,6,2,8,5,7]\n",
    "p2 = [4,2,6,5,9,7,1,3]\n",
    "p3 = [3,1,5,4,7,6,8,2]\n",
    "p4 = [8,1,3,2,5,6,4,7]\n",
    "c=4\n",
    "print(p1,p2,p3,p4)"
   ]
  },
  {
   "cell_type": "code",
   "execution_count": 4,
   "metadata": {},
   "outputs": [
    {
     "data": {
      "text/plain": [
       "([1, 3, 4, 6, 9, 7, 1, 3], [4, 2, 6, 5, 2, 8, 5, 7])"
      ]
     },
     "execution_count": 4,
     "metadata": {},
     "output_type": "execute_result"
    }
   ],
   "source": [
    "def crossover(p1,p2,c):\n",
    "    offspring1 = p1[0:c] + p2[c:len(p2)] \n",
    "    offspring2 = p2[0:c] + p1[c:len(p1)] \n",
    "    \n",
    "    return offspring1, offspring2\n",
    "    \n",
    "crossover(p1,p2,c)    \n",
    "\n"
   ]
  },
  {
   "cell_type": "code",
   "execution_count": 20,
   "metadata": {},
   "outputs": [
    {
     "data": {
      "text/plain": [
       "([3, 1, 5, 4, 5, 6, 4, 7], [8, 1, 3, 2, 7, 6, 8, 2])"
      ]
     },
     "execution_count": 20,
     "metadata": {},
     "output_type": "execute_result"
    }
   ],
   "source": [
    "crossover(p3,p4,c)"
   ]
  },
  {
   "cell_type": "code",
   "execution_count": null,
   "metadata": {},
   "outputs": [],
   "source": []
  },
  {
   "cell_type": "code",
   "execution_count": 6,
   "metadata": {},
   "outputs": [
    {
     "ename": "SyntaxError",
     "evalue": "invalid syntax (<ipython-input-6-98f87dcf3705>, line 1)",
     "output_type": "error",
     "traceback": [
      "\u001b[0;36m  File \u001b[0;32m\"<ipython-input-6-98f87dcf3705>\"\u001b[0;36m, line \u001b[0;32m1\u001b[0m\n\u001b[0;31m    ipython locate\u001b[0m\n\u001b[0m                 ^\u001b[0m\n\u001b[0;31mSyntaxError\u001b[0m\u001b[0;31m:\u001b[0m invalid syntax\n"
     ]
    }
   ],
   "source": []
  },
  {
   "cell_type": "code",
   "execution_count": null,
   "metadata": {},
   "outputs": [],
   "source": []
  },
  {
   "cell_type": "code",
   "execution_count": null,
   "metadata": {},
   "outputs": [],
   "source": []
  }
 ],
 "metadata": {
  "kernelspec": {
   "display_name": "Python 3",
   "language": "python",
   "name": "python3"
  },
  "language_info": {
   "codemirror_mode": {
    "name": "ipython",
    "version": 3
   },
   "file_extension": ".py",
   "mimetype": "text/x-python",
   "name": "python",
   "nbconvert_exporter": "python",
   "pygments_lexer": "ipython3",
   "version": "3.6.3"
  }
 },
 "nbformat": 4,
 "nbformat_minor": 2
}
