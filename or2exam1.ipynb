{
 "cells": [
  {
   "cell_type": "markdown",
   "metadata": {},
   "source": [
    "$\\textbf{Part 1}$ Family buys cases of pop. Demand is 1 case per day. Let $y$ be the order quantity in cases. Let $t_0$ be the order cycle length in days. Let $K$ be the setup cost which is a step function of $y$ as defined in the code. Let $h$ be the holding cost that is also a step function of $y$ as defined in the code below. "
   ]
  },
  {
   "cell_type": "code",
   "execution_count": 42,
   "metadata": {},
   "outputs": [],
   "source": [
    "D = 1                      # This is the demand in cases per day.\n",
    "\n",
    "def K(y):                  # This is the setup cost. $3 if 40 or less, $23 if more than 40. \n",
    "    if y <= 40:\n",
    "        return 3\n",
    "    elif y>=41:\n",
    "        return 23\n",
    "\n",
    "def p(y):                  # This is the price per case. \n",
    "    if y>=1 and y <=99:\n",
    "        return 4.00\n",
    "    elif y>=100 and y<=399:\n",
    "        return 3.92\n",
    "    elif y>=400:\n",
    "        return 3.85\n",
    "    \n",
    "def h(y):                 # This is the holding cost of the inventory in price per item per t\n",
    "    return .18*p(y)/365          \n",
    "\n",
    "def tcu(y):\n",
    "    return K(y)*D/y + h(y)*(1/2)*y\n",
    "\n",
    "def print_tcu(y):\n",
    "    print(\"TCU(\",y,\")=\",tcu(y))"
   ]
  },
  {
   "cell_type": "markdown",
   "metadata": {},
   "source": [
    "Next we use basic calculus to find the minimum(s) of our TCU function. \n",
    "\\begin{align*}\n",
    "\\frac{d}{dy} TCU(y) &= \\frac{d}{dy}\\left( \\frac{KD}{y} + \\frac{.18\\cdot p \\cdot y}{2\\cdot 365}\\right) \\\\\n",
    "&= -\\frac{KD}{y^2} +  \\frac{.18 p }{2\\cdot 365} \n",
    "\\end{align*}\n",
    "\n",
    "Setting this derivative equal to zero we get \n",
    "\\begin{align*}\n",
    "y^{*} &= \\sqrt{\\frac{2KD}h}\n",
    "\\end{align*}\n",
    "\n",
    "Next, since $K(y)$ and $p(y)$ are peicewise functions of $y$, we will evaluate $y^*$ at each of the different intervals and compute $TCU(y)$ and the appropriate values of $y$. \n",
    "\n",
    "\n",
    "\n",
    "For $y\\leq40$,\n",
    "\\begin{align*}\n",
    "y^{*} &= \\sqrt{\\frac{2KD}h} \\\\\n",
    "&= \\sqrt{\\frac{2\\cdot3\\cdot 365}{.18\\cdot4}} \\\\\n",
    "&= \\sqrt{\\frac{6\\cdot 365}{.18\\cdot4}}  \\\\\n",
    "&= 55.1513 \\leftarrow \\text{not feasible}\n",
    "\\end{align*}\n",
    "\n",
    "For $41 \\leq y\\leq99$,\n",
    "\\begin{align*}\n",
    "y^{*} &= \\sqrt{\\frac{2KD}h} \\\\\n",
    "&=\\sqrt{\\frac{2\\cdot23 \\cdot 365}{.18\\cdot 4} }\\\\\n",
    "&= 152.707 \\leftarrow \\text{not feasible}\n",
    "\\end{align*}\n",
    "\n",
    "For $100 \\leq y\\leq399$,\n",
    "\\begin{align*}\n",
    "y^{*} &= \\sqrt{\\frac{2KD}h} \\\\\n",
    "&=\\sqrt{\\frac{2\\cdot23 \\cdot 365}{.18\\cdot 3.92} }\\\\\n",
    "&= 154.257\n",
    "\\end{align*}\n",
    "\n",
    "For $400 \\leq y$,\n",
    "\\begin{align*}\n",
    "y^{*} &= \\sqrt{\\frac{2KD}h} \\\\\n",
    "&=\\sqrt{\\frac{2\\cdot23 \\cdot 365}{.18\\cdot 3.85} }\\\\\n",
    "&= 155.653  \\leftarrow \\text{not feasible}\n",
    "\\end{align*}\n",
    "\n",
    "We see that we only had one feasible solution giving by solving for $y^*$. Since we need to have a positive integer number of cases, we evaluate $TCU(y)$ around the optimimum and at all of the endpoints."
   ]
  },
  {
   "cell_type": "code",
   "execution_count": 43,
   "metadata": {},
   "outputs": [
    {
     "name": "stdout",
     "output_type": "stream",
     "text": [
      "TCU( 1 )= 3.000986301369863\n",
      "TCU( 40 )= 0.11445205479452054\n",
      "TCU( 41 )= 0.6014139659204811\n",
      "TCU( 99 )= 0.3299670679396707\n",
      "TCU( 100 )= 0.32665753424657534\n",
      "TCU( 154 )= 0.29820325209037535\n",
      "TCU( 155 )= 0.2982062748563853\n",
      "TCU( 399 )= 0.44330767191952486\n",
      "TCU( 400 )= 0.43722602739726024\n"
     ]
    }
   ],
   "source": [
    "crit_points = [1,40,41,99,100,154,155,399,400]\n",
    "for point in crit_points:\n",
    "    print_tcu(point)\n"
   ]
  },
  {
   "cell_type": "markdown",
   "metadata": {},
   "source": [
    "$\\textbf{1.}$ We see that the optimal is found at $y^*=40$. The total cost per unit at this order quantity is $\\$0.1144$. Thus the resulting total cost per year (not including cost of soda) is $ \\frac{1 case}{day}\\cdot\\frac{365day}{year}\\cdot\\frac{\\$.1144}{case} = \\frac{\\$41.76}{year} $\n"
   ]
  },
  {
   "cell_type": "markdown",
   "metadata": {},
   "source": [
    "$\\textbf{2.}$ Since the order quantity $y^*$ was found to be 40, then it follows that the optimal order cycle length is $t_0^* = y^*/D = 40\\cdot days/1 = 40 days. $ We also see that the number of order required per year is $ \\lceil \\frac{365}{40} \\rceil = 10$"
   ]
  },
  {
   "cell_type": "code",
   "execution_count": null,
   "metadata": {},
   "outputs": [],
   "source": []
  }
 ],
 "metadata": {
  "kernelspec": {
   "display_name": "Python 3",
   "language": "python",
   "name": "python3"
  },
  "language_info": {
   "codemirror_mode": {
    "name": "ipython",
    "version": 3
   },
   "file_extension": ".py",
   "mimetype": "text/x-python",
   "name": "python",
   "nbconvert_exporter": "python",
   "pygments_lexer": "ipython3",
   "version": "3.6.8"
  }
 },
 "nbformat": 4,
 "nbformat_minor": 2
}
