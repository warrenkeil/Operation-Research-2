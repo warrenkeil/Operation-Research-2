{
 "cells": [
  {
   "cell_type": "markdown",
   "metadata": {},
   "source": [
    "# Queuing Homework"
   ]
  },
  {
   "cell_type": "markdown",
   "metadata": {},
   "source": [
    "### 15.11 Road transport company problem."
   ]
  },
  {
   "cell_type": "markdown",
   "metadata": {},
   "source": [
    "Given parameters:\n",
    "\\begin{align*}\n",
    "\\lambda &= \\frac{8 customer}{hour} \\\\\n",
    "\\mu &= \\frac{12 customer}{hour} \\\\\n",
    "L_q &= \\frac{\\lambda^2}{\\mu(\\mu-\\lambda)} = \\frac{8\\cdot8}{12\\cdot 4} = \\frac{16}{3}  =\\text{average number customer in queue}\\\\\n",
    "W_q &= \\frac{\\lambda}{\\mu(\\mu-\\lambda)} = \\frac{8}{12\\cdot4}=\\frac16 hour/cust=10 minutes/cust\n",
    "\\end{align*}"
   ]
  },
  {
   "cell_type": "markdown",
   "metadata": {},
   "source": [
    "We see that the average number of customers in queue is 16/3. We also found that the average time a customer waits before getting service is ten minutes. "
   ]
  },
  {
   "cell_type": "markdown",
   "metadata": {},
   "source": [
    "To evaluate whether the new system is worth it, we see that the current cost of goodwill is $480 minutes \\cdot \\frac{16}3 \\cdot10 minutes \\cdot\\frac{12}{minute}= 7.111 $\n",
    "\n",
    "We calulate this to be 307200 paise per day which equals 3072 rupees per day.  "
   ]
  },
  {
   "cell_type": "code",
   "execution_count": 1,
   "metadata": {},
   "outputs": [
    {
     "data": {
      "text/plain": [
       "307200.0"
      ]
     },
     "execution_count": 1,
     "metadata": {},
     "output_type": "execute_result"
    }
   ],
   "source": [
    "480 * (16/3)*12*10"
   ]
  },
  {
   "cell_type": "markdown",
   "metadata": {},
   "source": [
    "Next we calcuate this again at the new $\\mu$ value. If service time is three minutes, \n",
    "\n",
    "then $\\mu = \\frac{customer}{3min}\\cdot\\frac{60min}{hour} = \\frac{20 cust}{hour} $\n",
    "\n",
    "Thus, $L_q = \\frac{64}{240} = \\frac4{15}$\n",
    "\n",
    "and $W_q = \\frac{8}{20\\cdot12} =\\frac{8}{240} =\\frac1{30} hour/cust = 2min/cust$"
   ]
  },
  {
   "cell_type": "markdown",
   "metadata": {},
   "source": [
    "The new cost of goodwill with becomes\n",
    "\n",
    "(minutes per day)$ \\cdot L_q \\cdot W_q \\cdot $cost of goodwill per minute in queue\n",
    "\n",
    "480 min per day $\\cdot \\frac4{15} \\cdot 2 min/cust \\cdot 12$paise per minute\n",
    "\n",
    "=$ 3072$ paise per day = 30.72 rupees per day. "
   ]
  },
  {
   "cell_type": "code",
   "execution_count": 1,
   "metadata": {},
   "outputs": [
    {
     "data": {
      "text/plain": [
       "3072.0"
      ]
     },
     "execution_count": 1,
     "metadata": {},
     "output_type": "execute_result"
    }
   ],
   "source": [
    "480*(4/15)*2*12"
   ]
  },
  {
   "cell_type": "markdown",
   "metadata": {},
   "source": [
    "Thus the money saved by the new server is $307200-3072 = 304128 $ paise = 3041.28 rupees per day. \n",
    "\n",
    "Since cost saved of 3041.28 rupees is greater than the added expense of 50 rupees, then it is worth it."
   ]
  },
  {
   "cell_type": "code",
   "execution_count": 2,
   "metadata": {},
   "outputs": [
    {
     "data": {
      "text/plain": [
       "304128"
      ]
     },
     "execution_count": 2,
     "metadata": {},
     "output_type": "execute_result"
    }
   ],
   "source": [
    "307200-3072"
   ]
  },
  {
   "cell_type": "markdown",
   "metadata": {},
   "source": [
    "## 15.21  Car servicing station problem. "
   ]
  },
  {
   "cell_type": "markdown",
   "metadata": {},
   "source": [
    "First, we decide what the parameters of the model are based on the question. We find that the model is \n",
    "__M/M/2/FIFO/4/$\\infty$__. We also find, \n",
    "\\begin{align*}\n",
    "\\lambda &= 12 \\text{cars/day} \\\\\n",
    "\\mu&=8 \\text{cars/day/server} \\\\\n",
    "\\end{align*}\n",
    "\n",
    "Since we have correctly identified our model, then we can use the formulas for the model with these parameters. To use these formulae, we first need our $p_0$ value. For this model, our $p_0$ is \n",
    "$$\n",
    "p_0 = \\frac{1-\\rho}{1-\\rho^{M+1}}\n",
    "$$\n",
    "where $\\rho = \\frac{\\lambda}{c\\mu}$ and $M$ is the system capacity. "
   ]
  },
  {
   "cell_type": "code",
   "execution_count": 60,
   "metadata": {},
   "outputs": [
    {
     "name": "stdout",
     "output_type": "stream",
     "text": [
      "p0 is  0.19601837672281777\n"
     ]
    }
   ],
   "source": [
    "#### p_0 calculation. \n",
    "import math\n",
    "lamb = 12\n",
    "mu=8\n",
    "k=2 # number of servers\n",
    "M = 4 # system capacity\n",
    "rho=(lamb/(k*mu))\n",
    "p0 = 0.0\n",
    "denom = 0.0\n",
    "# prob models page 247\n",
    "denom = (1+k*(rho))+((k**k)/math.factorial(k))*(rho**k)*((1-(rho**(M-k+1)))/(1-rho))\n",
    "p0 = 1/denom\n",
    "print('p0 is ' ,p0)"
   ]
  },
  {
   "cell_type": "markdown",
   "metadata": {},
   "source": [
    "We find, the average number of cars in the service station is\n",
    "\\begin{align*}\n",
    "L_q &= \\frac{k^k}{k!}p_0 \\frac{\\rho^{k+1}}{(1-\\rho)^2} \\\\\n",
    "&\\\\\n",
    "L_s&= L_q + k - \\sum_{n=0}^{k-1}(k-n)p_n\n",
    "\\end{align*}\n",
    "\n",
    "We will now have python print out this computation:"
   ]
  },
  {
   "cell_type": "code",
   "execution_count": 67,
   "metadata": {},
   "outputs": [
    {
     "name": "stdout",
     "output_type": "stream",
     "text": [
      "Ls is  1.7274119448698315  is the average number of cars in system\n"
     ]
    }
   ],
   "source": [
    "Lq = (k**k/(math.factorial(k)))*p0*(rho**(k+1)/((1-rho)**2))*(1-((M-k)*(1-rho)+1)*(rho**(M-k)))\n",
    "\n",
    "def p(n):\n",
    "    if n <k:\n",
    "        return ((k**n)/(math.factorial(n)))*p0*(rho**n)\n",
    "    elif n>=k and n<=M:\n",
    "        return ((k**k)/(math.factorial(k)))*p0*(rho**M)\n",
    "    else:\n",
    "        return 0\n",
    "\n",
    "summ = 0.0\n",
    "\n",
    "for i in range(0,k):\n",
    "    summ = summ + (k-i)*(p(i))\n",
    "    \n",
    "Ls = Lq + k - summ\n",
    "\n",
    "print('Ls is ',Ls, \" is the average number of cars in system\")\n"
   ]
  },
  {
   "cell_type": "markdown",
   "metadata": {},
   "source": [
    "The average number of cars waiting to be serviced is given by $L_q$ which we computed above."
   ]
  },
  {
   "cell_type": "code",
   "execution_count": 68,
   "metadata": {},
   "outputs": [
    {
     "name": "stdout",
     "output_type": "stream",
     "text": [
      "Lq is   0.4134762633996937 ( the avg number of cars in queue)\n"
     ]
    }
   ],
   "source": [
    "print('Lq is  ', Lq, '( the avg number of cars in queue)')"
   ]
  },
  {
   "cell_type": "markdown",
   "metadata": {},
   "source": [
    "The average amount of time a car spends in the system is given by \n",
    "$$\n",
    "W_s = \\frac{Ls}{\\lambda}\n",
    "$$\n",
    "\n",
    "Again, since we have already computed the values of $L_s$ we have python print the answer:"
   ]
  },
  {
   "cell_type": "code",
   "execution_count": 71,
   "metadata": {},
   "outputs": [
    {
     "name": "stdout",
     "output_type": "stream",
     "text": [
      "Ws equals  0.1439509954058193 the average time in days\n"
     ]
    }
   ],
   "source": [
    "Ws = (Ls/lamb)\n",
    "print('Ws equals ',  Ws , 'the average time in days')"
   ]
  },
  {
   "cell_type": "markdown",
   "metadata": {},
   "source": [
    "## 15.23 Tax consulting firm problem. "
   ]
  },
  {
   "cell_type": "markdown",
   "metadata": {},
   "source": [
    "Note: we will be changing names of parameters this problem to math the text, 'Probabilistic Models'. \n",
    "First, we recognize that this problem follows a  __M/M/4/FIFO/$\\infty$/$\\infty$__ model. We first state the given parameters:\n",
    "\\begin{align*}\n",
    "\\lambda &= \\frac{10 person}{hour} \\\\\n",
    "\\mu &= \\frac{3 person}{hour}\\\\\n",
    "k &= 4 \\hspace{5mm} \\text{servers} \\\\\n",
    "\\end{align*}\n",
    "\n",
    "We will first compute $p_0, p_n, L_s,L_q,W_s $ and $W_q$ since these will be used to answer the questions. "
   ]
  },
  {
   "cell_type": "code",
   "execution_count": 95,
   "metadata": {},
   "outputs": [
    {
     "name": "stdout",
     "output_type": "stream",
     "text": [
      "Ls 4.570884381019211 Lq 0.7160400123158885 Ws 0.4570884381019211 Wq 0.07160400123158886\n"
     ]
    }
   ],
   "source": [
    "import math\n",
    "def fac(s):\n",
    "    return math.factorial(s)    # too many letters  D:\n",
    "\n",
    "lamb = 10\n",
    "mu = 3\n",
    "s = 4\n",
    "rho=(lamb/(s*mu))\n",
    "\n",
    "p0 = 0.0\n",
    "denom = ((s**s)/math.factorial(s))*((rho*s)/(1-rho))\n",
    "\n",
    "for n in range(0,s):\n",
    "    denom = denom+ ((s**n)/(math.factorial(s)))*(rho**n)\n",
    "\n",
    "p0 = 1/denom\n",
    "\n",
    "def p(n):\n",
    "    if n <s:\n",
    "        return ((s**n)/(math.factorial(n)))*p0*(rho**n)\n",
    "    elif n>=s:\n",
    "        return ((s**s)/(math.factorial(s)))*p0*(rho**n)\n",
    "\n",
    "Lq = ((s**s)/fac(s))*p0*((rho**(s+1))/((1-rho)**2))\n",
    "\n",
    "summ = 0.0\n",
    "for n in range(0,s):\n",
    "    summ = summ+ (s-n)*p(n)\n",
    "\n",
    "Ls = Lq + s -summ\n",
    "\n",
    "Ws = Ls/lamb\n",
    "\n",
    "Wq = Lq/lamb\n",
    "\n",
    "print('Ls',Ls,'Lq',Lq,'Ws',Ws,'Wq',Wq)"
   ]
  },
  {
   "cell_type": "markdown",
   "metadata": {},
   "source": [
    "Now that we have successfully computed the variables, we know that the average number of people in the system is 4.57. \n",
    "\n",
    "The average number of customers waiting to be served is .71 customers.\n",
    "\n",
    "The average time a customer spends in the system is .457 hours. \n",
    "\n",
    "The average waiting time per customer is .072 hours. \n",
    "\n",
    "The average time a tax person spends advisor clients each day is given by \n",
    "the expected idle time per server. \n",
    "\n",
    "The probability that a customer has to wait is 1-p0 -p1-p2-p3-p4"
   ]
  },
  {
   "cell_type": "code",
   "execution_count": 102,
   "metadata": {},
   "outputs": [
    {
     "name": "stdout",
     "output_type": "stream",
     "text": [
      "3.6288907824169216\n"
     ]
    }
   ],
   "source": [
    "####idle time per server\n",
    "idle = 0.0\n",
    "for n in range(0,s):\n",
    "    idle = idle+(s-n)*p(n)\n",
    "\n",
    "idle = (100/s)*idle\n",
    "print(idle)"
   ]
  },
  {
   "cell_type": "code",
   "execution_count": 98,
   "metadata": {},
   "outputs": [
    {
     "name": "stdout",
     "output_type": "stream",
     "text": [
      "probability of waiting is  0.9016065551076328\n"
     ]
    }
   ],
   "source": [
    "print('probability of waiting is ', 1-p0-p(1)-p(2)-p(3)-p(4))"
   ]
  },
  {
   "cell_type": "markdown",
   "metadata": {},
   "source": [
    "Thus the number of hour an advisor works per week is (8-3.6)*5 =22 hours per week"
   ]
  },
  {
   "cell_type": "code",
   "execution_count": 104,
   "metadata": {},
   "outputs": [
    {
     "name": "stdout",
     "output_type": "stream",
     "text": [
      "expected number of idle workers is  0.14515563129667686\n"
     ]
    }
   ],
   "source": [
    "#  expected number of idle workers is\n",
    "print('expected number of idle workers is ', 4*p0+3*p(1)+2*p(2)+1*p(3) )"
   ]
  },
  {
   "cell_type": "code",
   "execution_count": null,
   "metadata": {},
   "outputs": [],
   "source": []
  }
 ],
 "metadata": {
  "kernelspec": {
   "display_name": "Python 3",
   "language": "python",
   "name": "python3"
  },
  "language_info": {
   "codemirror_mode": {
    "name": "ipython",
    "version": 3
   },
   "file_extension": ".py",
   "mimetype": "text/x-python",
   "name": "python",
   "nbconvert_exporter": "python",
   "pygments_lexer": "ipython3",
   "version": "3.6.8"
  }
 },
 "nbformat": 4,
 "nbformat_minor": 2
}
