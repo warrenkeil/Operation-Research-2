{
 "cells": [
  {
   "cell_type": "markdown",
   "metadata": {},
   "source": [
    "Homework 15.9 -Genetic Algo: Use Crossover technique to generate solutions from given parent solutions. Use $c=4$. \n",
    "\n",
    "OR2\n",
    "\n",
    "Warren Keil "
   ]
  },
  {
   "cell_type": "code",
   "execution_count": 34,
   "metadata": {},
   "outputs": [
    {
     "name": "stdout",
     "output_type": "stream",
     "text": [
      "[1, 3, 4, 6, 2, 8, 5, 7] [4, 2, 6, 5, 9, 7, 1, 3] [3, 1, 5, 4, 7, 6, 8, 2] [8, 1, 3, 2, 5, 6, 4, 7]\n"
     ]
    }
   ],
   "source": [
    "p1 = [1,3,4,6,2,8,5,7]\n",
    "p2 = [4,2,6,5,9,7,1,3]\n",
    "p3 = [3,1,5,4,7,6,8,2]\n",
    "p4 = [8,1,3,2,5,6,4,7]\n",
    "c=4\n",
    "print(p1,p2,p3,p4)"
   ]
  },
  {
   "cell_type": "code",
   "execution_count": 36,
   "metadata": {},
   "outputs": [
    {
     "data": {
      "text/plain": [
       "([1, 3, 4, 6, 9, 7, 1, 3], [4, 2, 6, 5, 2, 8, 5, 7])"
      ]
     },
     "execution_count": 36,
     "metadata": {},
     "output_type": "execute_result"
    }
   ],
   "source": [
    "def crossover(p1,p2,c):\n",
    "    offspring1 = p1[0:c] + p2[c:len(p2)] \n",
    "    offspring2 = p2[0:c] + p1[c:len(p1)] \n",
    "    \n",
    "    return offspring1, offspring2\n",
    "    \n",
    "crossover(p1,p2,c)    \n",
    "\n"
   ]
  },
  {
   "cell_type": "code",
   "execution_count": 24,
   "metadata": {},
   "outputs": [
    {
     "data": {
      "text/plain": [
       "([3, 1, 5, 4, 5, 6, 4, 7], [8, 1, 3, 2, 7, 6, 8, 2])"
      ]
     },
     "execution_count": 24,
     "metadata": {},
     "output_type": "execute_result"
    }
   ],
   "source": [
    "crossover(p3,p4,c)\n",
    "\n"
   ]
  },
  {
   "cell_type": "code",
   "execution_count": 30,
   "metadata": {},
   "outputs": [],
   "source": [
    "#pp1 = [1,2,8,4,5,3,7,6,9]\n",
    "#pp2 = [1,9,2,8,3,7,4,6,5]"
   ]
  },
  {
   "cell_type": "code",
   "execution_count": 5,
   "metadata": {},
   "outputs": [
    {
     "ename": "NameError",
     "evalue": "name 'crossover' is not defined",
     "output_type": "error",
     "traceback": [
      "\u001b[0;31m---------------------------------------------------------------------------\u001b[0m",
      "\u001b[0;31mNameError\u001b[0m                                 Traceback (most recent call last)",
      "\u001b[0;32m<ipython-input-5-f095875d990c>\u001b[0m in \u001b[0;36m<module>\u001b[0;34m()\u001b[0m\n\u001b[0;32m----> 1\u001b[0;31m \u001b[0mcrossover\u001b[0m\u001b[0;34m(\u001b[0m\u001b[0mpp\u001b[0m\u001b[0;34m,\u001b[0m\u001b[0mpp2\u001b[0m\u001b[0;34m,\u001b[0m\u001b[0;36m5\u001b[0m\u001b[0;34m)\u001b[0m\u001b[0;34m\u001b[0m\u001b[0m\n\u001b[0m",
      "\u001b[0;31mNameError\u001b[0m: name 'crossover' is not defined"
     ]
    }
   ],
   "source": [
    "crossover(pp,pp2,5)"
   ]
  },
  {
   "cell_type": "code",
   "execution_count": 4,
   "metadata": {},
   "outputs": [
    {
     "name": "stdout",
     "output_type": "stream",
     "text": [
      "555\n",
      "h2\n",
      "iiiii\n"
     ]
    }
   ],
   "source": [
    "\n",
    "print('555')\n",
    "print('h2')\n",
    "print('iiiii')"
   ]
  },
  {
   "cell_type": "code",
   "execution_count": null,
   "metadata": {},
   "outputs": [],
   "source": []
  }
 ],
 "metadata": {
  "kernelspec": {
   "display_name": "Python 3",
   "language": "python",
   "name": "python3"
  },
  "language_info": {
   "codemirror_mode": {
    "name": "ipython",
    "version": 3
   },
   "file_extension": ".py",
   "mimetype": "text/x-python",
   "name": "python",
   "nbconvert_exporter": "python",
   "pygments_lexer": "ipython3",
   "version": "3.6.3"
  }
 },
 "nbformat": 4,
 "nbformat_minor": 2
}
